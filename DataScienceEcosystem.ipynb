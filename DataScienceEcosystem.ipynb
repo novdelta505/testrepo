{
 "cells": [
  {
   "cell_type": "markdown",
   "id": "87e961ea-fc49-4f70-9c37-46fc63740a39",
   "metadata": {},
   "source": [
    "# Data Science Tools and Ecosystem"
   ]
  },
  {
   "cell_type": "markdown",
   "id": "f858a633-3a46-485d-b96e-852f4305e07b",
   "metadata": {},
   "source": [
    "In this notebook, Data science tools and ecosystem are summmarized."
   ]
  },
  {
   "cell_type": "markdown",
   "id": "9ca990c7-4ce4-414d-aa74-60e9281c0ad1",
   "metadata": {},
   "source": [
    "**Objectives**:\n",
    "- Interactive Data Analysis\n",
    "- Documentation and Communication\n",
    "- Visualization\n",
    "- Data Cleaning and Preprocessing\n",
    "-  Collaboration"
   ]
  },
  {
   "cell_type": "markdown",
   "id": "b6ee9ec1-7983-44d0-9aac-a1130aec7275",
   "metadata": {},
   "source": [
    "some of thre popular languages that data scientists use are:\n",
    "1) Python\n",
    "2) R\n",
    "3) SQL\n"
   ]
  },
  {
   "cell_type": "markdown",
   "id": "6b3a7f18-8f05-49ec-861e-c39a73996ef6",
   "metadata": {},
   "source": [
    "Some of the commonly used libraries used by Data Scientists include:\n",
    "1) Numpy\n",
    "2) Matplotlib\n",
    "3) TensorFlow\n",
    "4) Pandas"
   ]
  },
  {
   "cell_type": "markdown",
   "id": "d3004b38-8bf2-4557-8a09-a84bd2a5af77",
   "metadata": {},
   "source": [
    "|Data Science Tools|\n",
    "|----|\n",
    "|Jupyter Notebooks|\n",
    "|Rstudio|\n",
    "|Visual Studio Code|"
   ]
  },
  {
   "cell_type": "markdown",
   "id": "d3a6c528-68a2-4156-ab44-868f80696729",
   "metadata": {},
   "source": [
    "### Below are a few examples of evaluating arithmetic expressions in Python."
   ]
  },
  {
   "cell_type": "code",
   "execution_count": 9,
   "id": "bfad8e13-7a0a-4fdb-88a4-1aa7cb231274",
   "metadata": {},
   "outputs": [
    {
     "data": {
      "text/plain": [
       "17"
      ]
     },
     "execution_count": 9,
     "metadata": {},
     "output_type": "execute_result"
    }
   ],
   "source": [
    "#This a simple arithmetic expression to mutiply then add integers.\n",
    "(3*4)+5"
   ]
  },
  {
   "cell_type": "code",
   "execution_count": 11,
   "id": "7566653f-8597-446b-9e0c-983e08bdb687",
   "metadata": {},
   "outputs": [
    {
     "data": {
      "text/plain": [
       "3.3333333333333335"
      ]
     },
     "execution_count": 11,
     "metadata": {},
     "output_type": "execute_result"
    }
   ],
   "source": [
    "# This will convert 200 minutes to hours by diving by 60.\n",
    "200/60"
   ]
  },
  {
   "cell_type": "markdown",
   "id": "344fbb46-b0cf-4676-a7a3-08bbba41c37f",
   "metadata": {},
   "source": [
    "## Author\n",
    "Nikesh Duwal"
   ]
  },
  {
   "cell_type": "code",
   "execution_count": null,
   "id": "9a0c9728-f4f3-4dbf-a4eb-54528b0bf975",
   "metadata": {},
   "outputs": [],
   "source": []
  }
 ],
 "metadata": {
  "kernelspec": {
   "display_name": "Python [conda env:base] *",
   "language": "python",
   "name": "conda-base-py"
  },
  "language_info": {
   "codemirror_mode": {
    "name": "ipython",
    "version": 3
   },
   "file_extension": ".py",
   "mimetype": "text/x-python",
   "name": "python",
   "nbconvert_exporter": "python",
   "pygments_lexer": "ipython3",
   "version": "3.12.7"
  }
 },
 "nbformat": 4,
 "nbformat_minor": 5
}
